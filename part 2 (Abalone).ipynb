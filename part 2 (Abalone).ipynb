{
 "cells": [
  {
   "cell_type": "markdown",
   "metadata": {},
   "source": [
    "# LogReg"
   ]
  },
  {
   "cell_type": "code",
   "execution_count": 272,
   "metadata": {},
   "outputs": [],
   "source": [
    "import pandas as pd\n",
    "from sklearn.metrics import classification_report, auc, roc_auc_score\n",
    "import matplotlib\n",
    "import matplotlib.pyplot as plt\n",
    "import numpy as np\n",
    "\n",
    "df = pd.read_csv(r'C:\\Users\\Даниил\\Desktop\\abalone\\abalone_csv.csv')\n",
    "df['Male'] = (df.Sex == 'M') * 1\n",
    "df['Female'] = (df.Sex == 'F') * 1\n",
    "df['Infant'] = (df.Sex == 'I') * 1\n",
    "df.drop('Sex', axis=1, inplace=True)\n",
    "df['Class_number_of_rings'] = df.Class_number_of_rings * 1."
   ]
  },
  {
   "cell_type": "code",
   "execution_count": 42,
   "metadata": {},
   "outputs": [
    {
     "data": {
      "text/plain": [
       "9.0     689\n",
       "10.0    634\n",
       "8.0     568\n",
       "11.0    487\n",
       "7.0     391\n",
       "12.0    267\n",
       "6.0     259\n",
       "13.0    203\n",
       "14.0    126\n",
       "5.0     115\n",
       "15.0    103\n",
       "16.0     67\n",
       "17.0     58\n",
       "4.0      57\n",
       "18.0     42\n",
       "19.0     32\n",
       "20.0     26\n",
       "3.0      15\n",
       "21.0     14\n",
       "23.0      9\n",
       "22.0      6\n",
       "27.0      2\n",
       "24.0      2\n",
       "1.0       1\n",
       "26.0      1\n",
       "2.0       1\n",
       "29.0      1\n",
       "25.0      1\n",
       "Name: Class_number_of_rings, dtype: int64"
      ]
     },
     "execution_count": 42,
     "metadata": {},
     "output_type": "execute_result"
    }
   ],
   "source": [
    "df['Class_number_of_rings'].value_counts()"
   ]
  },
  {
   "cell_type": "code",
   "execution_count": 43,
   "metadata": {},
   "outputs": [
    {
     "data": {
      "text/plain": [
       "9.0     689\n",
       "10.0    634\n",
       "Name: Class_number_of_rings, dtype: int64"
      ]
     },
     "execution_count": 43,
     "metadata": {},
     "output_type": "execute_result"
    }
   ],
   "source": [
    "for i in range(9):\n",
    "    df = df.drop(df[(df.Class_number_of_rings == i)].index)\n",
    "        \n",
    "for i in range(11, 30):\n",
    "    df = df.drop(df[(df.Class_number_of_rings == i)].index)\n",
    "df['Class_number_of_rings'].value_counts()"
   ]
  },
  {
   "cell_type": "code",
   "execution_count": 44,
   "metadata": {},
   "outputs": [],
   "source": [
    "from sklearn.model_selection import train_test_split\n",
    "from sklearn.preprocessing import StandardScaler\n",
    "\n",
    "\n",
    "X = df.drop('Class_number_of_rings', axis = 1).values\n",
    "Y = df['Class_number_of_rings'].values\n",
    "\n",
    "X_train, X_test, Y_train, Y_test = train_test_split(X, Y, test_size=0.25)\n",
    "\n",
    "scaler = StandardScaler()\n",
    "X_train = scaler.fit_transform(X_train)\n",
    "X_test = scaler.transform(X_test)"
   ]
  },
  {
   "cell_type": "code",
   "execution_count": 45,
   "metadata": {},
   "outputs": [
    {
     "data": {
      "text/plain": [
       "(992, 10)"
      ]
     },
     "execution_count": 45,
     "metadata": {},
     "output_type": "execute_result"
    }
   ],
   "source": [
    "X_train.shape"
   ]
  },
  {
   "cell_type": "code",
   "execution_count": 48,
   "metadata": {},
   "outputs": [
    {
     "name": "stdout",
     "output_type": "stream",
     "text": [
      "              precision    recall  f1-score   support\n",
      "\n",
      "         9.0       0.57      0.76      0.65       153\n",
      "        10.0       0.71      0.49      0.58       178\n",
      "\n",
      "    accuracy                           0.62       331\n",
      "   macro avg       0.64      0.63      0.62       331\n",
      "weighted avg       0.64      0.62      0.61       331\n",
      "\n",
      "Roc-auc score: 0.6295439524124256\n",
      "Wall time: 9 ms\n"
     ]
    },
    {
     "name": "stderr",
     "output_type": "stream",
     "text": [
      "C:\\anac\\lib\\site-packages\\sklearn\\linear_model\\logistic.py:432: FutureWarning: Default solver will be changed to 'lbfgs' in 0.22. Specify a solver to silence this warning.\n",
      "  FutureWarning)\n"
     ]
    }
   ],
   "source": [
    "%%time\n",
    "\n",
    "from sklearn.linear_model import LogisticRegression\n",
    "\n",
    "\n",
    "lr=LogisticRegression()\n",
    "lr.fit(X_train,Y_train)\n",
    "Y_pred=lr.predict(X_test)\n",
    "\n",
    "\n",
    "print(classification_report(Y_test, Y_pred))\n",
    "print(\"Roc-auc score:\", roc_auc_score(Y_test, Y_pred))"
   ]
  },
  {
   "cell_type": "markdown",
   "metadata": {},
   "source": [
    "# Полносвязная сеть"
   ]
  },
  {
   "cell_type": "code",
   "execution_count": 49,
   "metadata": {},
   "outputs": [],
   "source": [
    "for i in range(len(Y_test)):\n",
    "    if Y_test[i] == 9.:\n",
    "        Y_test[i] = 0\n",
    "    else:\n",
    "        Y_test[i] = 1.\n",
    "\n",
    "        \n",
    "for i in range(len(Y_train)):\n",
    "    if Y_train[i] == 9.:\n",
    "        Y_train[i] = 0\n",
    "    else:\n",
    "        Y_train[i] = 1.\n"
   ]
  },
  {
   "cell_type": "code",
   "execution_count": 140,
   "metadata": {},
   "outputs": [],
   "source": [
    "import torch\n",
    "import torch.nn as nn\n",
    "import torch.nn.functional as F\n",
    "import torch.optim as optim"
   ]
  },
  {
   "cell_type": "code",
   "execution_count": 396,
   "metadata": {},
   "outputs": [],
   "source": [
    "class fmodel(nn.Module):\n",
    "    def __init__(self):\n",
    "        super(fmodel, self).__init__()\n",
    "        self.layer0 = nn.Linear(10, 10)\n",
    "        self.layer1 = nn.Linear(10, 80)\n",
    "        self.layer2 = nn.Linear(80, 50)\n",
    "        self.layer3 = nn.Linear(50, 1)\n",
    "    \n",
    "    def forward(self, x):\n",
    "        x0 = self.layer0(x)\n",
    "        x1 = F.relu(self.layer1(x0))\n",
    "        x1 = nn.Dropout(p=0.1)(x1)\n",
    "        x2 = F.relu(self.layer2(x1))\n",
    "        x2 = nn.Dropout(p=0.1)(x2)\n",
    "        x3 = F.sigmoid(self.layer3(x2))\n",
    "        return x3\n",
    "    \n",
    "    "
   ]
  },
  {
   "cell_type": "code",
   "execution_count": 397,
   "metadata": {},
   "outputs": [],
   "source": [
    "def train(model, criterion, optimizer, num_epochs=25):\n",
    "    tr_losses = []\n",
    "    val_losses = []\n",
    "    for epoch in range(num_epochs):\n",
    "        if epoch % 40 == 0:\n",
    "            print('Epoch {}/{}'.format(epoch, num_epochs - 1))\n",
    "            print('-' * 10)\n",
    "        model.train()\n",
    "        loss = 0.\n",
    "        optimizer.zero_grad()\n",
    "        for i in range(len(X_train)):\n",
    "            x = torch.Tensor(X_train[i])\n",
    "            y = torch.Tensor([Y_train[i]])\n",
    "            prediction = model.forward(x)\n",
    "            loss += criterion(prediction.view(1, -1), y.view(1, -1))\n",
    "        loss.backward()\n",
    "        optimizer.step()\n",
    "        tr_losses.append(loss.item() / len(X_train))\n",
    "        if epoch % 40 == 0:\n",
    "            print(\"train_loss:\", loss.item() / len(X_train))\n",
    "        \n",
    "        loss = 0.\n",
    "        model.eval()\n",
    "        with torch.no_grad():\n",
    "            for i in range(len(X_test)):\n",
    "                x = torch.Tensor(X_test[i])\n",
    "                y = torch.Tensor([Y_test[i]])\n",
    "                prediction = model.forward(x)\n",
    "                loss += criterion(prediction.view(1, -1), y.view(1, -1))\n",
    "                \n",
    "        val_losses.append(loss.item() / len(X_test))\n",
    "        if epoch % 40 == 0:\n",
    "            print(\"val_loss:\", loss.item() / len(X_test))  \n",
    "        if (loss.item() / len(X_test)) == min(val_losses):\n",
    "            torch.save(model.state_dict(), \"./best_model.pth\")\n",
    "    \n",
    "    model.load_state_dict(torch.load(\"./best_model.pth\"))\n",
    "    model.eval()\n",
    "    plt.figure(figsize=(10,6))\n",
    "    plt.plot([i for i in range(num_epochs)], tr_losses, label=\"train\")\n",
    "    plt.plot([i for i in range(num_epochs)], val_losses, label=\"validation\")\n",
    "    plt.xlabel('epoch', fontsize=15)\n",
    "    plt.ylabel('loss', fontsize=15)\n",
    "    plt.legend()\n",
    "    plt.grid()\n",
    "    plt.show()"
   ]
  },
  {
   "cell_type": "code",
   "execution_count": 398,
   "metadata": {},
   "outputs": [],
   "source": [
    "model = fmodel()\n",
    "criterion = nn.BCELoss()\n",
    "optimizer = optim.AdamW(model.parameters(), lr=0.001)"
   ]
  },
  {
   "cell_type": "code",
   "execution_count": 399,
   "metadata": {
    "scrolled": true
   },
   "outputs": [
    {
     "name": "stdout",
     "output_type": "stream",
     "text": [
      "Epoch 0/149\n",
      "----------\n"
     ]
    },
    {
     "name": "stderr",
     "output_type": "stream",
     "text": [
      "C:\\anac\\lib\\site-packages\\torch\\nn\\functional.py:1625: UserWarning: nn.functional.sigmoid is deprecated. Use torch.sigmoid instead.\n",
      "  warnings.warn(\"nn.functional.sigmoid is deprecated. Use torch.sigmoid instead.\")\n"
     ]
    },
    {
     "name": "stdout",
     "output_type": "stream",
     "text": [
      "train_loss: 0.6953109002882435\n",
      "val_loss: 0.6880376533439152\n",
      "Epoch 40/149\n",
      "----------\n",
      "train_loss: 0.6610515963646674\n",
      "val_loss: 0.6707622608749528\n",
      "Epoch 80/149\n",
      "----------\n",
      "train_loss: 0.6482012348790323\n",
      "val_loss: 0.6575994578012887\n",
      "Epoch 120/149\n",
      "----------\n",
      "train_loss: 0.647569102625693\n",
      "val_loss: 0.6397033414811887\n"
     ]
    },
    {
     "data": {
      "image/png": "[encoded data removed]",
      "text/plain": [
       "<Figure size 720x432 with 1 Axes>"
      ]
     },
     "metadata": {
      "needs_background": "light"
     },
     "output_type": "display_data"
    },
    {
     "name": "stdout",
     "output_type": "stream",
     "text": [
      "Wall time: 1min 40s\n"
     ]
    }
   ],
   "source": [
    "%%time\n",
    "train(model, criterion, optimizer, num_epochs=150)"
   ]
  },
  {
   "cell_type": "code",
   "execution_count": 401,
   "metadata": {},
   "outputs": [
    {
     "name": "stdout",
     "output_type": "stream",
     "text": [
      "              precision    recall  f1-score   support\n",
      "\n",
      "         0.0       0.57      0.78      0.66       153\n",
      "         1.0       0.72      0.49      0.58       178\n",
      "\n",
      "    accuracy                           0.63       331\n",
      "   macro avg       0.65      0.64      0.62       331\n",
      "weighted avg       0.65      0.63      0.62       331\n",
      "\n",
      "Roc-auc score: 0.6867885731071455\n"
     ]
    },
    {
     "name": "stderr",
     "output_type": "stream",
     "text": [
      "C:\\anac\\lib\\site-packages\\torch\\nn\\functional.py:1625: UserWarning: nn.functional.sigmoid is deprecated. Use torch.sigmoid instead.\n",
      "  warnings.warn(\"nn.functional.sigmoid is deprecated. Use torch.sigmoid instead.\")\n"
     ]
    }
   ],
   "source": [
    "predictions = []\n",
    "for i in X_test:\n",
    "    prediction = model.forward(torch.Tensor(i))\n",
    "    predictions.append(prediction.item())\n",
    "\n",
    "    \n",
    "r_predictions = []\n",
    "for i in predictions:\n",
    "    r_predictions.append(round(i))\n",
    "    \n",
    "print(classification_report(Y_test, r_predictions))\n",
    "print(\"Roc-auc score:\", roc_auc_score(Y_test, predictions))"
   ]
  },
  {
   "cell_type": "code",
   "execution_count": null,
   "metadata": {},
   "outputs": [],
   "source": []
  },
  {
   "cell_type": "code",
   "execution_count": null,
   "metadata": {},
   "outputs": [],
   "source": []
  },
  {
   "cell_type": "code",
   "execution_count": null,
   "metadata": {},
   "outputs": [],
   "source": []
  }
 ],
 "metadata": {
  "kernelspec": {
   "display_name": "Python 3",
   "language": "python",
   "name": "python3"
  },
  "language_info": {
   "codemirror_mode": {
    "name": "ipython",
    "version": 3
   },
   "file_extension": ".py",
   "mimetype": "text/x-python",
   "name": "python",
   "nbconvert_exporter": "python",
   "pygments_lexer": "ipython3",
   "version": "3.7.4"
  }
 },
 "nbformat": 4,
 "nbformat_minor": 2
}
